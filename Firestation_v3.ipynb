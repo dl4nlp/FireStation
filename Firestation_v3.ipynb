{
 "cells": [
  {
   "cell_type": "code",
   "execution_count": 2,
   "metadata": {},
   "outputs": [],
   "source": [
    "import pandas as pd\n",
    "import matplotlib as plt\n",
    "import numpy\n",
    "\n"
   ]
  },
  {
   "cell_type": "markdown",
   "metadata": {},
   "source": [
    "## let's do an initial loading of the data"
   ]
  },
  {
   "cell_type": "code",
   "execution_count": 3,
   "metadata": {},
   "outputs": [
    {
     "name": "stderr",
     "output_type": "stream",
     "text": [
      "c:\\users\\fuzzy bunny\\anaconda2\\envs\\p3play\\lib\\site-packages\\IPython\\core\\interactiveshell.py:3018: DtypeWarning: Columns (19,20,25,30) have mixed types. Specify dtype option on import or set low_memory=False.\n",
      "  interactivity=interactivity, compiler=compiler, result=result)\n"
     ]
    }
   ],
   "source": [
    "file='C:/Users/fuzzy Bunny/Downloads/Fire_Department_Calls_for_Service.csv'\n",
    "df1=pd.read_csv(file)\n",
    "\n",
    "#url=\"https://data.sfgov.org/api/views/nuek-vuh3/rows.csv?accessType=DOWNLOAD\"\n",
    "#df1=pd.read_csv(url)"
   ]
  },
  {
   "cell_type": "code",
   "execution_count": 4,
   "metadata": {},
   "outputs": [
    {
     "name": "stdout",
     "output_type": "stream",
     "text": [
      "['Call Number' 'Unit ID' 'Incident Number' 'Call Type' 'Call Date'\n",
      " 'Watch Date' 'Received DtTm' 'Entry DtTm' 'Dispatch DtTm' 'Response DtTm'\n",
      " 'On Scene DtTm' 'Transport DtTm' 'Hospital DtTm' 'Call Final Disposition'\n",
      " 'Available DtTm' 'Address' 'City' 'Zipcode of Incident' 'Battalion'\n",
      " 'Station Area' 'Box' 'Original Priority' 'Priority' 'Final Priority'\n",
      " 'ALS Unit' 'Call Type Group' 'Number of Alarms' 'Unit Type'\n",
      " 'Unit sequence in call dispatch' 'Fire Prevention District'\n",
      " 'Supervisor District' 'Neighborhooods - Analysis Boundaries' 'Location'\n",
      " 'RowID']\n",
      "Index(['Station Area', 'Box', 'Call Type Group', 'Supervisor District'], dtype='object')\n"
     ]
    }
   ],
   "source": [
    "#i'm looking at the columns provided\n",
    "print (df1.columns.values)\n",
    "#read_csv gave me a warning that columns 19,20,25, and 30 were mixed types\n",
    "print (df1.columns[[19,20,25,30]])\n"
   ]
  },
  {
   "cell_type": "code",
   "execution_count": 5,
   "metadata": {},
   "outputs": [],
   "source": [
    "#need to convert strings to datetime \n",
    "#To save time, i'm only going to convert the ones that I need\n",
    "#I'm putting the convereted data into new columns in case I need to do quality assessing later\n",
    "#In a final I'd not keep both or orginal and converted columns.\n",
    "#Additionally, dropping all unused columns should speed up processing\n",
    "\n",
    "#df1['Watch Date']=pd.to_datetime(df1['Watch Date'],format='%m/%d/%Y')\n",
    "#df1['Call Date']=pd.to_datetime(df1['Call Date'],format='%m/%d/%Y')\n",
    "#df1['Received DtTm']=pd.to_datetime(df1['Received DtTm'],format='%m/%d/%Y %I:%M:%S %p')\n",
    "df1['Entry DtTm2']=pd.to_datetime(df1['Entry DtTm'],format='%m/%d/%Y %I:%M:%S %p')\n",
    "df1['Dispatch DtTm2']=pd.to_datetime(df1['Dispatch DtTm'],format='%m/%d/%Y %I:%M:%S %p')\n",
    "df1['Response DtTm2']=pd.to_datetime(df1['Response DtTm'],format='%m/%d/%Y %I:%M:%S %p')\n",
    "#df1['On Scene DtTm']=pd.to_datetime(df1['On Scene DtTm'],format='%m/%d/%Y %I:%M:%S %p')\n",
    "#df1['Transport DtTm']=pd.to_datetime(df1['Transport DtTm'],format='%m/%d/%Y %I:%M:%S %p')\n",
    "#df1['Hospital DtTm']=pd.to_datetime(df1['Hospital DtTm'],format='%m/%d/%Y %I:%M:%S %p')\n",
    "df1['Available DtTm2']=pd.to_datetime(df1['Available DtTm'],format='%m/%d/%Y %I:%M:%S %p')\n"
   ]
  },
  {
   "cell_type": "code",
   "execution_count": 6,
   "metadata": {},
   "outputs": [
    {
     "name": "stdout",
     "output_type": "stream",
     "text": [
      "['Call Number' 'Unit ID' 'Incident Number' 'Call Type' 'Call Date'\n",
      " 'Watch Date' 'Received DtTm' 'Entry DtTm' 'Dispatch DtTm' 'Response DtTm'\n",
      " 'On Scene DtTm' 'Transport DtTm' 'Hospital DtTm' 'Call Final Disposition'\n",
      " 'Available DtTm' 'Address' 'City' 'Zipcode of Incident' 'Battalion'\n",
      " 'Station Area' 'Box' 'Original Priority' 'Priority' 'Final Priority'\n",
      " 'ALS Unit' 'Call Type Group' 'Number of Alarms' 'Unit Type'\n",
      " 'Unit sequence in call dispatch' 'Fire Prevention District'\n",
      " 'Supervisor District' 'Neighborhooods - Analysis Boundaries' 'Location'\n",
      " 'RowID' 'Entry DtTm2' 'Dispatch DtTm2' 'Response DtTm2' 'Available DtTm2']\n"
     ]
    },
    {
     "data": {
      "text/html": [
       "<div>\n",
       "<style scoped>\n",
       "    .dataframe tbody tr th:only-of-type {\n",
       "        vertical-align: middle;\n",
       "    }\n",
       "\n",
       "    .dataframe tbody tr th {\n",
       "        vertical-align: top;\n",
       "    }\n",
       "\n",
       "    .dataframe thead th {\n",
       "        text-align: right;\n",
       "    }\n",
       "</style>\n",
       "<table border=\"1\" class=\"dataframe\">\n",
       "  <thead>\n",
       "    <tr style=\"text-align: right;\">\n",
       "      <th></th>\n",
       "      <th>Call Number</th>\n",
       "      <th>Unit ID</th>\n",
       "      <th>Incident Number</th>\n",
       "      <th>Call Type</th>\n",
       "      <th>Call Date</th>\n",
       "      <th>Watch Date</th>\n",
       "      <th>Received DtTm</th>\n",
       "      <th>Entry DtTm</th>\n",
       "      <th>Dispatch DtTm</th>\n",
       "      <th>Response DtTm</th>\n",
       "      <th>On Scene DtTm</th>\n",
       "      <th>Transport DtTm</th>\n",
       "      <th>Hospital DtTm</th>\n",
       "      <th>Call Final Disposition</th>\n",
       "      <th>Available DtTm</th>\n",
       "      <th>Address</th>\n",
       "      <th>City</th>\n",
       "      <th>Zipcode of Incident</th>\n",
       "      <th>Battalion</th>\n",
       "      <th>Station Area</th>\n",
       "      <th>Box</th>\n",
       "      <th>Original Priority</th>\n",
       "      <th>Priority</th>\n",
       "      <th>Final Priority</th>\n",
       "      <th>ALS Unit</th>\n",
       "      <th>Call Type Group</th>\n",
       "      <th>Number of Alarms</th>\n",
       "      <th>Unit Type</th>\n",
       "      <th>Unit sequence in call dispatch</th>\n",
       "      <th>Fire Prevention District</th>\n",
       "      <th>Supervisor District</th>\n",
       "      <th>Neighborhooods - Analysis Boundaries</th>\n",
       "      <th>Location</th>\n",
       "      <th>RowID</th>\n",
       "      <th>Entry DtTm2</th>\n",
       "      <th>Dispatch DtTm2</th>\n",
       "      <th>Response DtTm2</th>\n",
       "      <th>Available DtTm2</th>\n",
       "    </tr>\n",
       "  </thead>\n",
       "  <tbody>\n",
       "    <tr>\n",
       "      <th>0</th>\n",
       "      <td>1030101</td>\n",
       "      <td>E18</td>\n",
       "      <td>306091</td>\n",
       "      <td>Medical Incident</td>\n",
       "      <td>04/12/2000</td>\n",
       "      <td>04/12/2000</td>\n",
       "      <td>04/12/2000 09:00:29 PM</td>\n",
       "      <td>04/12/2000 09:01:40 PM</td>\n",
       "      <td>04/12/2000 09:02:00 PM</td>\n",
       "      <td>NaN</td>\n",
       "      <td>NaN</td>\n",
       "      <td>NaN</td>\n",
       "      <td>NaN</td>\n",
       "      <td>Other</td>\n",
       "      <td>NaN</td>\n",
       "      <td>2000 Block of 37TH AVE</td>\n",
       "      <td>SF</td>\n",
       "      <td>94116.0</td>\n",
       "      <td>B08</td>\n",
       "      <td>18</td>\n",
       "      <td>757</td>\n",
       "      <td>3</td>\n",
       "      <td>3</td>\n",
       "      <td>3</td>\n",
       "      <td>False</td>\n",
       "      <td>NaN</td>\n",
       "      <td>1</td>\n",
       "      <td>ENGINE</td>\n",
       "      <td>1.0</td>\n",
       "      <td>8</td>\n",
       "      <td>4</td>\n",
       "      <td>Sunset/Parkside</td>\n",
       "      <td>(37.7487247711275, -122.495504020186)</td>\n",
       "      <td>001030101-E18</td>\n",
       "      <td>2000-04-12 21:01:40</td>\n",
       "      <td>2000-04-12 21:02:00</td>\n",
       "      <td>NaT</td>\n",
       "      <td>NaT</td>\n",
       "    </tr>\n",
       "    <tr>\n",
       "      <th>1</th>\n",
       "      <td>1030104</td>\n",
       "      <td>M14</td>\n",
       "      <td>30612</td>\n",
       "      <td>Medical Incident</td>\n",
       "      <td>04/12/2000</td>\n",
       "      <td>04/12/2000</td>\n",
       "      <td>04/12/2000 09:09:02 PM</td>\n",
       "      <td>04/12/2000 09:10:17 PM</td>\n",
       "      <td>04/12/2000 09:10:29 PM</td>\n",
       "      <td>04/12/2000 09:12:11 PM</td>\n",
       "      <td>04/12/2000 09:19:36 PM</td>\n",
       "      <td>04/12/2000 09:43:57 PM</td>\n",
       "      <td>04/12/2000 10:03:33 PM</td>\n",
       "      <td>Other</td>\n",
       "      <td>04/12/2000 10:23:57 PM</td>\n",
       "      <td>1700 Block of 43RD AVE</td>\n",
       "      <td>SF</td>\n",
       "      <td>94122.0</td>\n",
       "      <td>B08</td>\n",
       "      <td>23</td>\n",
       "      <td>7651</td>\n",
       "      <td>3</td>\n",
       "      <td>3</td>\n",
       "      <td>3</td>\n",
       "      <td>True</td>\n",
       "      <td>NaN</td>\n",
       "      <td>1</td>\n",
       "      <td>MEDIC</td>\n",
       "      <td>2.0</td>\n",
       "      <td>8</td>\n",
       "      <td>4</td>\n",
       "      <td>Sunset/Parkside</td>\n",
       "      <td>(37.7540326780595, -122.502185504543)</td>\n",
       "      <td>001030104-M14</td>\n",
       "      <td>2000-04-12 21:10:17</td>\n",
       "      <td>2000-04-12 21:10:29</td>\n",
       "      <td>2000-04-12 21:12:11</td>\n",
       "      <td>2000-04-12 22:23:57</td>\n",
       "    </tr>\n",
       "    <tr>\n",
       "      <th>2</th>\n",
       "      <td>1030106</td>\n",
       "      <td>M36</td>\n",
       "      <td>30614</td>\n",
       "      <td>Medical Incident</td>\n",
       "      <td>04/12/2000</td>\n",
       "      <td>04/12/2000</td>\n",
       "      <td>04/12/2000 09:09:44 PM</td>\n",
       "      <td>04/12/2000 09:10:56 PM</td>\n",
       "      <td>04/12/2000 09:11:47 PM</td>\n",
       "      <td>NaN</td>\n",
       "      <td>04/12/2000 09:14:11 PM</td>\n",
       "      <td>04/12/2000 09:59:31 PM</td>\n",
       "      <td>04/12/2000 10:10:06 PM</td>\n",
       "      <td>Other</td>\n",
       "      <td>04/12/2000 10:43:40 PM</td>\n",
       "      <td>0 Block of FELL ST</td>\n",
       "      <td>SF</td>\n",
       "      <td>94102.0</td>\n",
       "      <td>B02</td>\n",
       "      <td>36</td>\n",
       "      <td>3111</td>\n",
       "      <td>3</td>\n",
       "      <td>3</td>\n",
       "      <td>3</td>\n",
       "      <td>False</td>\n",
       "      <td>NaN</td>\n",
       "      <td>1</td>\n",
       "      <td>MEDIC</td>\n",
       "      <td>1.0</td>\n",
       "      <td>2</td>\n",
       "      <td>6</td>\n",
       "      <td>Tenderloin</td>\n",
       "      <td>(37.7764405100838, -122.418481123408)</td>\n",
       "      <td>001030106-M36</td>\n",
       "      <td>2000-04-12 21:10:56</td>\n",
       "      <td>2000-04-12 21:11:47</td>\n",
       "      <td>NaT</td>\n",
       "      <td>2000-04-12 22:43:40</td>\n",
       "    </tr>\n",
       "    <tr>\n",
       "      <th>3</th>\n",
       "      <td>1030107</td>\n",
       "      <td>E01</td>\n",
       "      <td>30615</td>\n",
       "      <td>Alarms</td>\n",
       "      <td>04/12/2000</td>\n",
       "      <td>04/12/2000</td>\n",
       "      <td>04/12/2000 09:13:47 PM</td>\n",
       "      <td>04/12/2000 09:13:51 PM</td>\n",
       "      <td>04/12/2000 09:14:13 PM</td>\n",
       "      <td>04/12/2000 09:15:58 PM</td>\n",
       "      <td>04/12/2000 09:20:12 PM</td>\n",
       "      <td>NaN</td>\n",
       "      <td>NaN</td>\n",
       "      <td>Other</td>\n",
       "      <td>04/12/2000 09:24:19 PM</td>\n",
       "      <td>100 Block of JONES ST</td>\n",
       "      <td>SF</td>\n",
       "      <td>94102.0</td>\n",
       "      <td>B03</td>\n",
       "      <td>1</td>\n",
       "      <td>1456</td>\n",
       "      <td>3</td>\n",
       "      <td>3</td>\n",
       "      <td>3</td>\n",
       "      <td>False</td>\n",
       "      <td>NaN</td>\n",
       "      <td>1</td>\n",
       "      <td>ENGINE</td>\n",
       "      <td>3.0</td>\n",
       "      <td>3</td>\n",
       "      <td>6</td>\n",
       "      <td>Tenderloin</td>\n",
       "      <td>(37.7825474000421, -122.412247935495)</td>\n",
       "      <td>001030107-E01</td>\n",
       "      <td>2000-04-12 21:13:51</td>\n",
       "      <td>2000-04-12 21:14:13</td>\n",
       "      <td>2000-04-12 21:15:58</td>\n",
       "      <td>2000-04-12 21:24:19</td>\n",
       "    </tr>\n",
       "    <tr>\n",
       "      <th>4</th>\n",
       "      <td>1030108</td>\n",
       "      <td>RS1</td>\n",
       "      <td>30616</td>\n",
       "      <td>Medical Incident</td>\n",
       "      <td>04/12/2000</td>\n",
       "      <td>04/12/2000</td>\n",
       "      <td>04/12/2000 09:14:43 PM</td>\n",
       "      <td>04/12/2000 09:16:11 PM</td>\n",
       "      <td>04/12/2000 09:16:24 PM</td>\n",
       "      <td>04/12/2000 09:18:20 PM</td>\n",
       "      <td>04/12/2000 09:20:08 PM</td>\n",
       "      <td>NaN</td>\n",
       "      <td>NaN</td>\n",
       "      <td>Other</td>\n",
       "      <td>04/12/2000 09:20:36 PM</td>\n",
       "      <td>700 Block of MARKET ST</td>\n",
       "      <td>SF</td>\n",
       "      <td>94108.0</td>\n",
       "      <td>B03</td>\n",
       "      <td>1</td>\n",
       "      <td>1322</td>\n",
       "      <td>3</td>\n",
       "      <td>3</td>\n",
       "      <td>3</td>\n",
       "      <td>False</td>\n",
       "      <td>NaN</td>\n",
       "      <td>1</td>\n",
       "      <td>RESCUE SQUAD</td>\n",
       "      <td>2.0</td>\n",
       "      <td>1</td>\n",
       "      <td>3</td>\n",
       "      <td>Financial District/South Beach</td>\n",
       "      <td>(37.7863072236365, -122.405294845215)</td>\n",
       "      <td>001030108-RS1</td>\n",
       "      <td>2000-04-12 21:16:11</td>\n",
       "      <td>2000-04-12 21:16:24</td>\n",
       "      <td>2000-04-12 21:18:20</td>\n",
       "      <td>2000-04-12 21:20:36</td>\n",
       "    </tr>\n",
       "  </tbody>\n",
       "</table>\n",
       "</div>"
      ],
      "text/plain": [
       "   Call Number Unit ID  Incident Number         Call Type   Call Date  \\\n",
       "0      1030101     E18           306091  Medical Incident  04/12/2000   \n",
       "1      1030104     M14            30612  Medical Incident  04/12/2000   \n",
       "2      1030106     M36            30614  Medical Incident  04/12/2000   \n",
       "3      1030107     E01            30615            Alarms  04/12/2000   \n",
       "4      1030108     RS1            30616  Medical Incident  04/12/2000   \n",
       "\n",
       "   Watch Date           Received DtTm              Entry DtTm  \\\n",
       "0  04/12/2000  04/12/2000 09:00:29 PM  04/12/2000 09:01:40 PM   \n",
       "1  04/12/2000  04/12/2000 09:09:02 PM  04/12/2000 09:10:17 PM   \n",
       "2  04/12/2000  04/12/2000 09:09:44 PM  04/12/2000 09:10:56 PM   \n",
       "3  04/12/2000  04/12/2000 09:13:47 PM  04/12/2000 09:13:51 PM   \n",
       "4  04/12/2000  04/12/2000 09:14:43 PM  04/12/2000 09:16:11 PM   \n",
       "\n",
       "            Dispatch DtTm           Response DtTm           On Scene DtTm  \\\n",
       "0  04/12/2000 09:02:00 PM                     NaN                     NaN   \n",
       "1  04/12/2000 09:10:29 PM  04/12/2000 09:12:11 PM  04/12/2000 09:19:36 PM   \n",
       "2  04/12/2000 09:11:47 PM                     NaN  04/12/2000 09:14:11 PM   \n",
       "3  04/12/2000 09:14:13 PM  04/12/2000 09:15:58 PM  04/12/2000 09:20:12 PM   \n",
       "4  04/12/2000 09:16:24 PM  04/12/2000 09:18:20 PM  04/12/2000 09:20:08 PM   \n",
       "\n",
       "           Transport DtTm           Hospital DtTm Call Final Disposition  \\\n",
       "0                     NaN                     NaN                  Other   \n",
       "1  04/12/2000 09:43:57 PM  04/12/2000 10:03:33 PM                  Other   \n",
       "2  04/12/2000 09:59:31 PM  04/12/2000 10:10:06 PM                  Other   \n",
       "3                     NaN                     NaN                  Other   \n",
       "4                     NaN                     NaN                  Other   \n",
       "\n",
       "           Available DtTm                 Address City  Zipcode of Incident  \\\n",
       "0                     NaN  2000 Block of 37TH AVE   SF              94116.0   \n",
       "1  04/12/2000 10:23:57 PM  1700 Block of 43RD AVE   SF              94122.0   \n",
       "2  04/12/2000 10:43:40 PM      0 Block of FELL ST   SF              94102.0   \n",
       "3  04/12/2000 09:24:19 PM   100 Block of JONES ST   SF              94102.0   \n",
       "4  04/12/2000 09:20:36 PM  700 Block of MARKET ST   SF              94108.0   \n",
       "\n",
       "  Battalion Station Area   Box Original Priority Priority  Final Priority  \\\n",
       "0       B08           18   757                 3        3               3   \n",
       "1       B08           23  7651                 3        3               3   \n",
       "2       B02           36  3111                 3        3               3   \n",
       "3       B03            1  1456                 3        3               3   \n",
       "4       B03            1  1322                 3        3               3   \n",
       "\n",
       "   ALS Unit Call Type Group  Number of Alarms     Unit Type  \\\n",
       "0     False             NaN                 1        ENGINE   \n",
       "1      True             NaN                 1         MEDIC   \n",
       "2     False             NaN                 1         MEDIC   \n",
       "3     False             NaN                 1        ENGINE   \n",
       "4     False             NaN                 1  RESCUE SQUAD   \n",
       "\n",
       "   Unit sequence in call dispatch Fire Prevention District  \\\n",
       "0                             1.0                        8   \n",
       "1                             2.0                        8   \n",
       "2                             1.0                        2   \n",
       "3                             3.0                        3   \n",
       "4                             2.0                        1   \n",
       "\n",
       "  Supervisor District Neighborhooods - Analysis Boundaries  \\\n",
       "0                   4                      Sunset/Parkside   \n",
       "1                   4                      Sunset/Parkside   \n",
       "2                   6                           Tenderloin   \n",
       "3                   6                           Tenderloin   \n",
       "4                   3       Financial District/South Beach   \n",
       "\n",
       "                                Location          RowID         Entry DtTm2  \\\n",
       "0  (37.7487247711275, -122.495504020186)  001030101-E18 2000-04-12 21:01:40   \n",
       "1  (37.7540326780595, -122.502185504543)  001030104-M14 2000-04-12 21:10:17   \n",
       "2  (37.7764405100838, -122.418481123408)  001030106-M36 2000-04-12 21:10:56   \n",
       "3  (37.7825474000421, -122.412247935495)  001030107-E01 2000-04-12 21:13:51   \n",
       "4  (37.7863072236365, -122.405294845215)  001030108-RS1 2000-04-12 21:16:11   \n",
       "\n",
       "       Dispatch DtTm2      Response DtTm2     Available DtTm2  \n",
       "0 2000-04-12 21:02:00                 NaT                 NaT  \n",
       "1 2000-04-12 21:10:29 2000-04-12 21:12:11 2000-04-12 22:23:57  \n",
       "2 2000-04-12 21:11:47                 NaT 2000-04-12 22:43:40  \n",
       "3 2000-04-12 21:14:13 2000-04-12 21:15:58 2000-04-12 21:24:19  \n",
       "4 2000-04-12 21:16:24 2000-04-12 21:18:20 2000-04-12 21:20:36  "
      ]
     },
     "execution_count": 6,
     "metadata": {},
     "output_type": "execute_result"
    }
   ],
   "source": [
    "#I just use this to look at the data as I make changes to it\n",
    "#normally, I'd delete it at the end\n",
    "print (df1.columns.values)\n",
    "pd.set_option('display.max_columns',500)\n",
    "pd.set_option('display.max_rows',500)\n",
    "df1.head(5)\n",
    "#df1[['Unit ID','Dispatch DtTm','temp_col1','Available DtTm','Next_Disp', 'Back_to_back']][:50]"
   ]
  },
  {
   "cell_type": "code",
   "execution_count": 7,
   "metadata": {},
   "outputs": [
    {
     "name": "stderr",
     "output_type": "stream",
     "text": [
      "c:\\users\\fuzzy bunny\\anaconda2\\envs\\p3play\\lib\\site-packages\\pandas\\core\\indexing.py:189: SettingWithCopyWarning: \n",
      "A value is trying to be set on a copy of a slice from a DataFrame\n",
      "\n",
      "See the caveats in the documentation: http://pandas.pydata.org/pandas-docs/stable/indexing.html#indexing-view-versus-copy\n",
      "  self._setitem_with_indexer(indexer, value)\n"
     ]
    }
   ],
   "source": [
    "#based upon the read me we need to look at the time of day that the incident was created\n",
    "#(I am guessing the the created datetime is 'Entry DtTm')\n",
    "#and the time difference between when a system becomes available and its next dispatch\n",
    "\n",
    "#let create an incident time column\n",
    "#1 (night) if between 10pm and 6 am\n",
    "#2 (morning) if between 6am and 2 pm\n",
    "#3 (afternoon) if between 2 pm and 10 pm\n",
    "#we really only need two levels (night and not night), \n",
    "#but I may want to look at more levels later\n",
    "df1['Entry_time']=1\n",
    "df1['Entry_time'].loc[df1['Entry DtTm2'].dt.strftime('%H:%M:%S').between('06:00:01','14:00:00')]=2\n",
    "df1['Entry_time'].loc[df1['Entry DtTm2'].dt.strftime('%H:%M:%S').between('14:00:01','22:00:00')]=3\n",
    "\n",
    "\n"
   ]
  },
  {
   "cell_type": "code",
   "execution_count": 8,
   "metadata": {},
   "outputs": [
    {
     "name": "stderr",
     "output_type": "stream",
     "text": [
      "c:\\users\\fuzzy bunny\\anaconda2\\envs\\p3play\\lib\\site-packages\\ipykernel_launcher.py:6: SettingWithCopyWarning: \n",
      "A value is trying to be set on a copy of a slice from a DataFrame\n",
      "\n",
      "See the caveats in the documentation: http://pandas.pydata.org/pandas-docs/stable/indexing.html#indexing-view-versus-copy\n",
      "  \n"
     ]
    }
   ],
   "source": [
    "#Turnout is defined as the duration of time between when a unit is dispatched and when the unit is enroute\n",
    "#i'm assuming that turnout time is 'Response DtTm'- 'Dispatch DtTm' \n",
    "#I infer this from the website, but I don't know if this is true.  \n",
    "#Normally I would ask before proceeding\n",
    "df1['Turn_time']=df1['Response DtTm2']-df1['Dispatch DtTm2']\n",
    "df1.Turn_time[df1['Response DtTm2']<df1['Dispatch DtTm2']]=pd.Timedelta('nat')\n",
    "#turn time in minutes\n",
    "df1.Turn_time=df1.Turn_time.dt.seconds/60\n",
    "\n",
    "#I discovered some odd cases where the response time was before the dispatch time\n",
    "#when this occurs i'm going to set the turn time to null\n",
    "\n"
   ]
  },
  {
   "cell_type": "code",
   "execution_count": 9,
   "metadata": {},
   "outputs": [],
   "source": [
    "#there are multiple units in this table.  \n",
    "#to calculate  the difference tween when a unit (e.g. system) is available and the \n",
    "#next dispatch, I need to sort by unit and available time\n",
    "df1=df1.sort_values(by=['Unit ID','Incident Number']).reset_index(drop=True)\n",
    "#now let's calculate the difference between the available time and the next dispatch time\n",
    "df1['Next_Disp']=(df1['Dispatch DtTm2']-df1['Available DtTm2'].shift(1)).fillna(0)\n",
    "\n",
    "#note if there is a change between units, we still get a 'Next_Disp' time\n",
    "#we need to drop these cases\n",
    "df1['Next_Disp'].loc[~(df1['Unit ID']==df1['Unit ID'].shift(1))]= pd.Timedelta('nat')\n",
    "#now let's flag those instances what the next dispatch was in less than 10 min\n",
    "df1['Back_to_back']=0\n",
    "df1['Back_to_back'].loc[df1['Next_Disp']<pd.Timedelta('0 days 10 min')]=1"
   ]
  },
  {
   "cell_type": "markdown",
   "metadata": {},
   "source": [
    "## lets check our new fields for outliers"
   ]
  },
  {
   "cell_type": "code",
   "execution_count": 11,
   "metadata": {},
   "outputs": [
    {
     "data": {
      "text/plain": [
       "<matplotlib.axes._subplots.AxesSubplot at 0x27ce70b6d68>"
      ]
     },
     "execution_count": 11,
     "metadata": {},
     "output_type": "execute_result"
    },
    {
     "data": {
      "image/png": "[encoded data removed]",
      "text/plain": [
       "<Figure size 432x288 with 1 Axes>"
      ]
     },
     "metadata": {
      "needs_background": "light"
     },
     "output_type": "display_data"
    }
   ],
   "source": [
    "df1.Turn_time[(df1.Turn_time>0)].hist(bins=2000, log=True)\n",
    "#it was by looking at this graph that I saw a bunch of outliers with large times\n",
    "#by investigating those outliers, I found the cases where response datetime was earlier than dispatch time\n",
    "#and where dispatch time was before available time\n",
    "# Above I remove cases where response time is befoe dispatch time"
   ]
  },
  {
   "cell_type": "markdown",
   "metadata": {},
   "source": [
    "### a quick look at turn time during the night"
   ]
  },
  {
   "cell_type": "code",
   "execution_count": 12,
   "metadata": {},
   "outputs": [
    {
     "data": {
      "text/plain": [
       "<matplotlib.axes._subplots.AxesSubplot at 0x27d91d00b00>"
      ]
     },
     "execution_count": 12,
     "metadata": {},
     "output_type": "execute_result"
    },
    {
     "data": {
      "image/png": "[encoded data removed]",
      "text/plain": [
       "<Figure size 432x288 with 1 Axes>"
      ]
     },
     "metadata": {
      "needs_background": "light"
     },
     "output_type": "display_data"
    }
   ],
   "source": [
    "#sns.distplot(df1.Turn_time[(df1.Entry_time == 1)&(df1.Turn_time>0)], hist=False, rug=True);\n",
    "df1.Turn_time[(df1.Entry_time == 1)&(df1.Turn_time>0)].hist(bins=2000, log=True)"
   ]
  },
  {
   "cell_type": "markdown",
   "metadata": {},
   "source": [
    "### turn time in morning"
   ]
  },
  {
   "cell_type": "code",
   "execution_count": 13,
   "metadata": {},
   "outputs": [
    {
     "data": {
      "text/plain": [
       "<matplotlib.axes._subplots.AxesSubplot at 0x27d5c4a2c88>"
      ]
     },
     "execution_count": 13,
     "metadata": {},
     "output_type": "execute_result"
    },
    {
     "data": {
      "image/png": "[encoded data removed]",
      "text/plain": [
       "<Figure size 432x288 with 1 Axes>"
      ]
     },
     "metadata": {
      "needs_background": "light"
     },
     "output_type": "display_data"
    }
   ],
   "source": [
    "#sns.distplot(df1.Turn_time[(df1.Entry_time == 2)&(df1.Turn_time>0)], hist=False, rug=True);\n",
    "df1.Turn_time[(df1.Entry_time == 2)&(df1.Turn_time>0)].hist(bins=2000, log=True)"
   ]
  },
  {
   "cell_type": "markdown",
   "metadata": {},
   "source": [
    "### turn time in afternoon"
   ]
  },
  {
   "cell_type": "code",
   "execution_count": 14,
   "metadata": {},
   "outputs": [
    {
     "data": {
      "text/plain": [
       "<matplotlib.axes._subplots.AxesSubplot at 0x27d58b211d0>"
      ]
     },
     "execution_count": 14,
     "metadata": {},
     "output_type": "execute_result"
    },
    {
     "data": {
      "image/png": "[encoded data removed]",
      "text/plain": [
       "<Figure size 432x288 with 1 Axes>"
      ]
     },
     "metadata": {
      "needs_background": "light"
     },
     "output_type": "display_data"
    }
   ],
   "source": [
    "#sns.distplot(df1.Turn_time[(df1.Entry_time == 3)&(df1.Turn_time>0)], hist=False, rug=True);\n",
    "df1.Turn_time[(df1.Entry_time == 3)&(df1.Turn_time>0)].hist(bins=2000, log=True)"
   ]
  },
  {
   "cell_type": "markdown",
   "metadata": {},
   "source": [
    "#### if you look at the data, you can see that there are times when  the unit is dispatched before it is available.  I don't know if this means that the definition of turn time needs to be  modified before meaninfgul analysis of turn time vs time of day. This may an indicate that there are not enough units so turn time get huge.  "
   ]
  },
  {
   "cell_type": "markdown",
   "metadata": {},
   "source": [
    "## See if evening incidences have slower turnout times\n",
    " \n",
    "#### This is a calls for a null hypothesis test that compares two means.  I'm going to do two non-parametric test to see if the night vs not night distributions are different.  I'm using the Mann-Whitney U test and the Kolmogorov–Smirnov test\n"
   ]
  },
  {
   "cell_type": "code",
   "execution_count": 15,
   "metadata": {},
   "outputs": [
    {
     "name": "stdout",
     "output_type": "stream",
     "text": [
      "p=0.00000\n"
     ]
    }
   ],
   "source": [
    "#Kolmogorov–Smirnov test\n",
    "from scipy.stats import ks_2samp\n",
    "KS, p_ks = ks_2samp(df1['Turn_time'].loc[(df1['Entry_time']<2) & (df1['Turn_time']>0)], \n",
    "                       df1['Turn_time'].loc[(df1['Entry_time']>1)& (df1['Turn_time']>0)])\n",
    "print ('p=%.5f' % ( p_ks))\n"
   ]
  },
  {
   "cell_type": "code",
   "execution_count": 16,
   "metadata": {},
   "outputs": [
    {
     "name": "stdout",
     "output_type": "stream",
     "text": [
      "p=0.00000\n",
      "Different distribution (reject H0)\n"
     ]
    }
   ],
   "source": [
    "\n",
    "from scipy.stats import mannwhitneyu\n",
    "\n",
    "# Mann-Whitney U test\n",
    "stat, p = mannwhitneyu(df1['Turn_time'].loc[(df1['Entry_time']<2) & (df1['Turn_time']>0)], \n",
    "                       df1['Turn_time'].loc[(df1['Entry_time']>1)& (df1['Turn_time']>0)], alternative='two-sided')\n",
    "print('p=%.5f' % (p))\n",
    "# interpret\n",
    "alpha = 0.05\n",
    "if p > alpha:\n",
    "\tprint('Same distribution (fail to reject H0)')\n",
    "else:\n",
    "\tprint('Different distribution (reject H0)')"
   ]
  },
  {
   "cell_type": "markdown",
   "metadata": {},
   "source": [
    "### Yep night time has longer turnout time.  The difference is statistically significant (p<0.05)---but I'm not sure that the average time difference of about 0.35 minutes is operationally relevant"
   ]
  },
  {
   "cell_type": "code",
   "execution_count": 17,
   "metadata": {},
   "outputs": [
    {
     "name": "stdout",
     "output_type": "stream",
     "text": [
      "Mean Night Turnout Time (minutes)  \n",
      "1.7910753491319804\n",
      "Mean  Not Night Turnout Time  (minutes) \n",
      "1.4573045640545372\n"
     ]
    }
   ],
   "source": [
    "print ('Mean Night Turnout Time (minutes)  ' )\n",
    "print (df1['Turn_time'].loc[(df1['Entry_time']<2) & (df1['Turn_time']>0)].mean(axis=0))\n",
    "\n",
    "print ('Mean  Not Night Turnout Time  (minutes) ' )\n",
    "print (df1['Turn_time'].loc[(df1['Entry_time']>1) & (df1['Turn_time']>0)].mean(axis=0))"
   ]
  },
  {
   "cell_type": "markdown",
   "metadata": {},
   "source": [
    "### Let's look at how back to back dispatching affects turnout time"
   ]
  },
  {
   "cell_type": "code",
   "execution_count": 18,
   "metadata": {},
   "outputs": [
    {
     "name": "stdout",
     "output_type": "stream",
     "text": [
      "p=0.00000\n"
     ]
    }
   ],
   "source": [
    "\n",
    "KS, p_ks = ks_2samp(df1['Turn_time'].loc[(df1['Back_to_back']==0) & (df1['Turn_time']>0)], \n",
    "                       df1['Turn_time'].loc[(df1['Back_to_back']==1)& (df1['Turn_time']>0)])\n",
    "print ('p=%.5f' % ( p_ks))\n"
   ]
  },
  {
   "cell_type": "code",
   "execution_count": 19,
   "metadata": {},
   "outputs": [
    {
     "name": "stdout",
     "output_type": "stream",
     "text": [
      "p=0.00000\n",
      "Different distribution (reject H0)\n"
     ]
    }
   ],
   "source": [
    "# compare samples\n",
    "stat, p = mannwhitneyu(df1['Turn_time'].loc[(df1['Back_to_back']==0) & (df1['Turn_time']>0)], \n",
    "                       df1['Turn_time'].loc[(df1['Back_to_back']==1)& (df1['Turn_time']>0)], alternative='two-sided')\n",
    "print('p=%.5f' % (p))\n",
    "# interpret\n",
    "alpha = 0.05\n",
    "if p > alpha:\n",
    "\tprint('Same distribution (fail to reject H0)')\n",
    "else:\n",
    "\tprint('Different distribution (reject H0)')"
   ]
  },
  {
   "cell_type": "markdown",
   "metadata": {},
   "source": [
    "## There is a statistically significant difference (p<0.05) between  back to back responses and non  back to back responses.  However  back to back responses are faster"
   ]
  },
  {
   "cell_type": "code",
   "execution_count": 20,
   "metadata": {},
   "outputs": [
    {
     "name": "stdout",
     "output_type": "stream",
     "text": [
      "Mean Back-to-back Turnout Time (minutes)  \n",
      "1.3974923517231428\n",
      "Mean  Not Back-to-back Turnout Time  (minutes) \n",
      "1.5571246495376048\n"
     ]
    }
   ],
   "source": [
    "print ('Mean Back-to-back Turnout Time (minutes)  ' )\n",
    "print (df1['Turn_time'].loc[(df1['Back_to_back']==1) & (df1['Turn_time']>0)].mean(axis=0))\n",
    "\n",
    "print ('Mean  Not Back-to-back Turnout Time  (minutes) ' )\n",
    "print (df1['Turn_time'].loc[(df1['Back_to_back']==0)& (df1['Turn_time']>0)].mean(axis=0))"
   ]
  },
  {
   "cell_type": "code",
   "execution_count": null,
   "metadata": {},
   "outputs": [],
   "source": []
  },
  {
   "cell_type": "code",
   "execution_count": null,
   "metadata": {},
   "outputs": [],
   "source": []
  }
 ],
 "metadata": {
  "kernelspec": {
   "display_name": "Python 3",
   "language": "python",
   "name": "python3"
  }
 },
 "nbformat": 4,
 "nbformat_minor": 2
}
